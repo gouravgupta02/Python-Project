{
 "cells": [
  {
   "cell_type": "code",
   "execution_count": null,
   "metadata": {},
   "outputs": [],
   "source": [
    "from tkinter import *\n",
    "from PIL import Image, ImageTk\n",
    "import tkinter.messagebox as tmsg\n",
    "\n",
    "def geti():\n",
    "    var1=loginent.get()       #entry box widget for username\n",
    "    var2=passwordent.get()    #entry box widget for password                                              \n",
    "    if var1==\"11901828\" and var2==\"12345\":\n",
    "        tmsg.showinfo(\"user Login\",\"Login successful\")\n",
    "    else:\n",
    "        tmsg.showinfo(\"user login\",\"Check user id or password agian \")\n",
    "\n",
    "root=Tk()\n",
    "root.geometry(\"450x450\")\n",
    "root.maxsize(450,450)\n",
    "frame2=Frame(root,borderwidth=2,relief=SUNKEN)            #Adding Frame\n",
    "frame2.grid(padx=23,pady=55)\n",
    "photo=ImageTk.PhotoImage(file=\"Online_class_Logo2_2_400x200.png\")  \n",
    "lb=Label(frame2,image=photo)\n",
    "lb.grid(row=0)\n",
    "\n",
    "\n",
    "\n",
    "frame1=Frame(frame2,borderwidth=8,relief=SUNKEN,bg=\"orange4\")\n",
    "frame1.grid(sticky=\"nsew\")\n",
    "label1=Label(frame1,text=\"Username \",font=\"comicsansms 10\",bg=\"orange4\").grid(row=2,column=1)\n",
    "label2=Label(frame1,text=\"Password \",font=\"comicsansms 10\",bg=\"orange4\").grid(row=3,column=1)\n",
    "loginval=StringVar()                                                                      \n",
    "passwordval=StringVar()                                                                  \n",
    "loginent=Entry(frame1,textvariable=loginval,borderwidth=4,bg=\"cornsilk2\")     #loginent is the            \n",
    "passwordent=Entry(frame1,textvariable=passwordval,show=\"*\",borderwidth=4,bg=\"cornsilk2\")    \n",
    "loginent.grid(row=2,column=3)                                                              \n",
    "passwordent.grid(row=3,column=3)                                                           \n",
    "Button(frame1,text=\"Click to login\",command=geti,borderwidth=8,bg=\"peachpuff3\").grid(row=4,column=2,pady=23) \n",
    "\n",
    "root.mainloop()"
   ]
  },
  {
   "cell_type": "code",
   "execution_count": null,
   "metadata": {},
   "outputs": [],
   "source": []
  },
  {
   "cell_type": "code",
   "execution_count": null,
   "metadata": {},
   "outputs": [],
   "source": []
  }
 ],
 "metadata": {
  "kernelspec": {
   "display_name": "Python 3",
   "language": "python",
   "name": "python3"
  },
  "language_info": {
   "codemirror_mode": {
    "name": "ipython",
    "version": 3
   },
   "file_extension": ".py",
   "mimetype": "text/x-python",
   "name": "python",
   "nbconvert_exporter": "python",
   "pygments_lexer": "ipython3",
   "version": "3.8.3"
  }
 },
 "nbformat": 4,
 "nbformat_minor": 4
}
